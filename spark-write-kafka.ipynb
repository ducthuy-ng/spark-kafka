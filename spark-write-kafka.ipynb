{
 "cells": [
  {
   "cell_type": "code",
   "execution_count": 1,
   "metadata": {},
   "outputs": [],
   "source": [
    "from pyspark.conf import SparkConf\n",
    "from pyspark.sql import SparkSession"
   ]
  },
  {
   "cell_type": "code",
   "execution_count": 2,
   "metadata": {},
   "outputs": [
    {
     "name": "stderr",
     "output_type": "stream",
     "text": [
      "24/03/31 19:58:48 WARN Utils: Your hostname, ThuyMacAir.local resolves to a loopback address: 127.0.0.1; using 192.168.0.11 instead (on interface en0)\n",
      "24/03/31 19:58:48 WARN Utils: Set SPARK_LOCAL_IP if you need to bind to another address\n",
      "24/03/31 19:58:48 WARN NativeCodeLoader: Unable to load native-hadoop library for your platform... using builtin-java classes where applicable\n",
      "Setting default log level to \"WARN\".\n",
      "To adjust logging level use sc.setLogLevel(newLevel). For SparkR, use setLogLevel(newLevel).\n"
     ]
    }
   ],
   "source": [
    "jars = [\n",
    "    \"/Users/ducth/docker/spark-kafka/java/spark-sql-kafka-0-10_2.12-3.5.1.jar\",\n",
    "    \"/Users/ducth/docker/spark-kafka/java/kafka-clients-3.7.0.jar,\",\n",
    "    \"/Users/ducth/docker/spark-kafka/java/commons-pool2-2.12.0.jar\",\n",
    "    \"/Users/ducth/docker/spark-kafka/java/spark-token-provider-kafka-0-10_2.12-3.5.1.jar\",\n",
    "]\n",
    "\n",
    "conf = SparkConf().set(\"spark.jars\", \",\".join(jars))\n",
    "spark = SparkSession.builder.config(conf=conf).getOrCreate()  # type: ignore"
   ]
  },
  {
   "cell_type": "code",
   "execution_count": 3,
   "metadata": {},
   "outputs": [
    {
     "data": {
      "text/plain": [
       "DataFrame[a: bigint, b: double, c: string, d: date, e: timestamp]"
      ]
     },
     "execution_count": 3,
     "metadata": {},
     "output_type": "execute_result"
    }
   ],
   "source": [
    "from datetime import datetime, date\n",
    "from pyspark.sql import Row\n",
    "\n",
    "df = spark.createDataFrame(\n",
    "    [\n",
    "        Row(a=1, b=2.0, c=\"string1\", d=date(2000, 1, 1), e=datetime(2000, 1, 1, 12, 0)),\n",
    "        Row(a=2, b=3.0, c=\"string2\", d=date(2000, 2, 1), e=datetime(2000, 1, 2, 12, 0)),\n",
    "        Row(a=4, b=5.0, c=\"string3\", d=date(2000, 3, 1), e=datetime(2000, 1, 3, 12, 0)),\n",
    "    ]\n",
    ")\n",
    "df"
   ]
  },
  {
   "cell_type": "code",
   "execution_count": 9,
   "metadata": {},
   "outputs": [
    {
     "name": "stderr",
     "output_type": "stream",
     "text": [
      "                                                                                \r"
     ]
    },
    {
     "name": "stdout",
     "output_type": "stream",
     "text": [
      "+---+--------------------+\n",
      "|key|               value|\n",
      "+---+--------------------+\n",
      "|  1|{\"a\":1,\"b\":2.0,\"c...|\n",
      "|  2|{\"a\":2,\"b\":3.0,\"c...|\n",
      "|  4|{\"a\":4,\"b\":5.0,\"c...|\n",
      "+---+--------------------+\n",
      "\n"
     ]
    }
   ],
   "source": [
    "import pyspark.sql.functions as f\n",
    "\n",
    "df.select(\n",
    "    [df[\"a\"].cast(\"string\").alias(\"key\"), f.to_json(f.struct(\"*\")).alias(\"value\")]\n",
    ").show()"
   ]
  },
  {
   "cell_type": "code",
   "execution_count": 4,
   "metadata": {},
   "outputs": [
    {
     "name": "stderr",
     "output_type": "stream",
     "text": [
      "                                                                                \r"
     ]
    },
    {
     "name": "stderr",
     "output_type": "stream",
     "text": [
      "24/03/31 19:59:03 WARN GarbageCollectionMetrics: To enable non-built-in garbage collector(s) List(G1 Concurrent GC), users should configure it(them) to spark.eventLog.gcMetrics.youngGenerationGarbageCollectors or spark.eventLog.gcMetrics.oldGenerationGarbageCollectors\n"
     ]
    }
   ],
   "source": [
    "import pyspark.sql.functions as f\n",
    "\n",
    "(\n",
    "    df.select(\n",
    "        [df[\"a\"].cast(\"string\").alias(\"key\"), f.to_json(f.struct(\"*\")).alias(\"value\")]\n",
    "    )\n",
    "    .write.format(\"kafka\")\n",
    "    .option(\"kafka.bootstrap.servers\", \"localhost:9092\")\n",
    "    .option(\"topic\", \"spark-topic\")\n",
    "    .save()\n",
    ")"
   ]
  },
  {
   "cell_type": "code",
   "execution_count": 16,
   "metadata": {},
   "outputs": [
    {
     "name": "stdout",
     "output_type": "stream",
     "text": [
      "+---+\n",
      "|  a|\n",
      "+---+\n",
      "|  2|\n",
      "|  4|\n",
      "+---+\n",
      "\n"
     ]
    }
   ],
   "source": [
    "from datetime import datetime\n",
    "from pyspark.sql.types import StructType, StructField, StringType, IntegerType\n",
    "\n",
    "df = (\n",
    "    spark.read.format(\"kafka\")\n",
    "    .option(\"kafka.bootstrap.servers\", \"localhost:9092\")\n",
    "    .option(\"subscribe\", \"spark-topic\")\n",
    "    .option(\"startingTimestamp\", \"1711889935964\")\n",
    "    .load()\n",
    ")\n",
    "\n",
    "\n",
    "parsed_value_df = df.select(\n",
    "    f.from_json(\n",
    "        df[\"value\"].cast(\"string\"),\n",
    "        StructType(\n",
    "            [\n",
    "                StructField(\"a\", IntegerType()),\n",
    "                StructField(\"b\", StringType()),\n",
    "                StructField(\"c\", StringType()),\n",
    "                StructField(\"d\", StringType()),\n",
    "                StructField(\"e\", StringType()),\n",
    "            ]\n",
    "        ),\n",
    "    ).alias(\"value\")\n",
    ")\n",
    "\n",
    "parsed_value_df.select(parsed_value_df[\"value.a\"]).show()"
   ]
  },
  {
   "cell_type": "code",
   "execution_count": 6,
   "metadata": {},
   "outputs": [],
   "source": [
    "spark.stop()"
   ]
  }
 ],
 "metadata": {
  "kernelspec": {
   "display_name": "spark-kafka",
   "language": "python",
   "name": "python3"
  },
  "language_info": {
   "codemirror_mode": {
    "name": "ipython",
    "version": 3
   },
   "file_extension": ".py",
   "mimetype": "text/x-python",
   "name": "python",
   "nbconvert_exporter": "python",
   "pygments_lexer": "ipython3",
   "version": "3.11.8"
  }
 },
 "nbformat": 4,
 "nbformat_minor": 2
}
